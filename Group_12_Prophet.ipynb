{
 "cells": [
  {
   "cell_type": "markdown",
   "id": "f2c3a8a0",
   "metadata": {},
   "source": [
    "Import Required Libraries"
   ]
  },
  {
   "cell_type": "code",
   "execution_count": 32,
   "id": "afb3629c",
   "metadata": {},
   "outputs": [
    {
     "data": {
      "text/html": [
       "        <script type=\"text/javascript\">\n",
       "        window.PlotlyConfig = {MathJaxConfig: 'local'};\n",
       "        if (window.MathJax) {MathJax.Hub.Config({SVG: {font: \"STIX-Web\"}});}\n",
       "        if (typeof require !== 'undefined') {\n",
       "        require.undef(\"plotly\");\n",
       "        requirejs.config({\n",
       "            paths: {\n",
       "                'plotly': ['https://cdn.plot.ly/plotly-2.9.0.min']\n",
       "            }\n",
       "        });\n",
       "        require(['plotly'], function(Plotly) {\n",
       "            window._Plotly = Plotly;\n",
       "        });\n",
       "        }\n",
       "        </script>\n",
       "        "
      ]
     },
     "metadata": {},
     "output_type": "display_data"
    }
   ],
   "source": [
    "import pandas as pd\n",
    "from math import sqrt\n",
    "from numpy import concatenate\n",
    "from matplotlib import pyplot\n",
    "import pandas as pd\n",
    "from datetime import datetime\n",
    "from sklearn.preprocessing import MinMaxScaler\n",
    "from sklearn.preprocessing import LabelEncoder\n",
    "from sklearn import preprocessing\n",
    "from sklearn.metrics import mean_squared_error\n",
    "from keras.models import Sequential\n",
    "from keras.layers import Dense\n",
    "from keras.layers import LSTM\n",
    "from keras.models import load_model\n",
    "import plotly.offline as py\n",
    "import plotly.graph_objs as go\n",
    "import numpy as np\n",
    "import seaborn as sns\n",
    "py.init_notebook_mode(connected=True)\n",
    "%matplotlib inline\n",
    "import itertools\n",
    "import warnings\n",
    "warnings.filterwarnings(\"ignore\")\n",
    "import datetime\n",
    "import math\n",
    "from prophet import Prophet\n"
   ]
  },
  {
   "cell_type": "markdown",
   "id": "41581305",
   "metadata": {},
   "source": [
    "Import the Data"
   ]
  },
  {
   "cell_type": "code",
   "execution_count": 2,
   "id": "0d637098",
   "metadata": {},
   "outputs": [
    {
     "name": "stdout",
     "output_type": "stream",
     "text": [
      "   Invoice  Product_Code  Quantity InvoiceDate InvoiceDate_timeStamp  Price  \\\n",
      "0    89058       7259395         3  20-04-2019      20-04-2019 06:02     62   \n",
      "1    89058         10557         5  20-04-2019      20-04-2019 06:02     37   \n",
      "2    89058       2733507         3  20-04-2019      20-04-2019 06:02     48   \n",
      "3    89058       5200349         5  20-04-2019      20-04-2019 06:02    100   \n",
      "4    89058        715497         3  20-04-2019      20-04-2019 06:02     91   \n",
      "\n",
      "   Customer_ID Country  Pack_Size_Code  In_Store_Promotion_Flag  \\\n",
      "0        38055     USA               3                        0   \n",
      "1        38055     USA               3                        1   \n",
      "2        38055     USA               1                        1   \n",
      "3        38055     USA               4                        1   \n",
      "4        38055     USA               2                        1   \n",
      "\n",
      "   Online_Promotion_Flag  Shelf_Space_Code  \n",
      "0                      0                 3  \n",
      "1                      0                 1  \n",
      "2                      0                 1  \n",
      "3                      1                 2  \n",
      "4                      1                 1  \n"
     ]
    }
   ],
   "source": [
    "#df_all = pd.read_csv('C:/Users/priygupta/BYOP/CPG_Master_data_Set.csv', index_col=3)\n",
    "df_all = pd.read_csv('C:/Users/priygupta/BYOP/CPG_Master_data_Set.csv')\n",
    "print(df_all.head())"
   ]
  },
  {
   "cell_type": "markdown",
   "id": "dab01598",
   "metadata": {},
   "source": [
    "Format the date data"
   ]
  },
  {
   "cell_type": "code",
   "execution_count": 3,
   "id": "fdef6a88",
   "metadata": {},
   "outputs": [
    {
     "name": "stdout",
     "output_type": "stream",
     "text": [
      "   Invoice  Product_Code  Quantity InvoiceDate InvoiceDate_timeStamp  Price  \\\n",
      "0    89058       7259395         3  2019-04-20      20-04-2019 06:02     62   \n",
      "1    89058         10557         5  2019-04-20      20-04-2019 06:02     37   \n",
      "2    89058       2733507         3  2019-04-20      20-04-2019 06:02     48   \n",
      "3    89058       5200349         5  2019-04-20      20-04-2019 06:02    100   \n",
      "4    89058        715497         3  2019-04-20      20-04-2019 06:02     91   \n",
      "\n",
      "   Customer_ID Country  Pack_Size_Code  In_Store_Promotion_Flag  \\\n",
      "0        38055     USA               3                        0   \n",
      "1        38055     USA               3                        1   \n",
      "2        38055     USA               1                        1   \n",
      "3        38055     USA               4                        1   \n",
      "4        38055     USA               2                        1   \n",
      "\n",
      "   Online_Promotion_Flag  Shelf_Space_Code  \n",
      "0                      0                 3  \n",
      "1                      0                 1  \n",
      "2                      0                 1  \n",
      "3                      1                 2  \n",
      "4                      1                 1  \n"
     ]
    }
   ],
   "source": [
    "'''\n",
    "df_all.index = pd.to_datetime(df_all.index,\n",
    "                          format='%d-%m-%Y')\n",
    "df_all = df_all.sort_index(ascending=True)\n",
    "print(df_all.head()) \n",
    "'''\n",
    "df_all['InvoiceDate'] = pd.to_datetime(df_all['InvoiceDate'],\n",
    "                          format='%d-%m-%Y')\n",
    "#df_all = df_all.sort_index(ascending=True)\n",
    "print(df_all.head()) "
   ]
  },
  {
   "cell_type": "markdown",
   "id": "50dad9be",
   "metadata": {},
   "source": [
    "Create a revenue column"
   ]
  },
  {
   "cell_type": "code",
   "execution_count": 4,
   "id": "567912ba",
   "metadata": {},
   "outputs": [
    {
     "name": "stdout",
     "output_type": "stream",
     "text": [
      "   Invoice  Product_Code  Quantity InvoiceDate InvoiceDate_timeStamp  Price  \\\n",
      "0    89058       7259395         3  2019-04-20      20-04-2019 06:02     62   \n",
      "1    89058         10557         5  2019-04-20      20-04-2019 06:02     37   \n",
      "2    89058       2733507         3  2019-04-20      20-04-2019 06:02     48   \n",
      "3    89058       5200349         5  2019-04-20      20-04-2019 06:02    100   \n",
      "4    89058        715497         3  2019-04-20      20-04-2019 06:02     91   \n",
      "\n",
      "   Customer_ID Country  Pack_Size_Code  In_Store_Promotion_Flag  \\\n",
      "0        38055     USA               3                        0   \n",
      "1        38055     USA               3                        1   \n",
      "2        38055     USA               1                        1   \n",
      "3        38055     USA               4                        1   \n",
      "4        38055     USA               2                        1   \n",
      "\n",
      "   Online_Promotion_Flag  Shelf_Space_Code  Revenue  \n",
      "0                      0                 3      186  \n",
      "1                      0                 1      185  \n",
      "2                      0                 1      144  \n",
      "3                      1                 2      500  \n",
      "4                      1                 1      273  \n"
     ]
    }
   ],
   "source": [
    "df_all['Revenue'] = df_all['Price'] * df_all['Quantity']\n",
    "print(df_all.head())"
   ]
  },
  {
   "cell_type": "markdown",
   "id": "16b11f1a",
   "metadata": {},
   "source": [
    "Data Details \n"
   ]
  },
  {
   "cell_type": "code",
   "execution_count": 13,
   "id": "cfc8d8aa",
   "metadata": {},
   "outputs": [
    {
     "name": "stdout",
     "output_type": "stream",
     "text": [
      "<class 'pandas.core.frame.DataFrame'>\n",
      "RangeIndex: 803000 entries, 0 to 802999\n",
      "Data columns (total 13 columns):\n",
      " #   Column                   Non-Null Count   Dtype         \n",
      "---  ------                   --------------   -----         \n",
      " 0   Invoice                  803000 non-null  int64         \n",
      " 1   Product_Code             803000 non-null  int64         \n",
      " 2   Quantity                 803000 non-null  int64         \n",
      " 3   InvoiceDate              803000 non-null  datetime64[ns]\n",
      " 4   InvoiceDate_timeStamp    803000 non-null  object        \n",
      " 5   Price                    803000 non-null  int64         \n",
      " 6   Customer_ID              803000 non-null  int64         \n",
      " 7   Country                  803000 non-null  object        \n",
      " 8   Pack_Size_Code           803000 non-null  int64         \n",
      " 9   In_Store_Promotion_Flag  803000 non-null  int64         \n",
      " 10  Online_Promotion_Flag    803000 non-null  int64         \n",
      " 11  Shelf_Space_Code         803000 non-null  int64         \n",
      " 12  Revenue                  803000 non-null  int64         \n",
      "dtypes: datetime64[ns](1), int64(10), object(2)\n",
      "memory usage: 79.6+ MB\n"
     ]
    },
    {
     "data": {
      "text/html": [
       "<div>\n",
       "<style scoped>\n",
       "    .dataframe tbody tr th:only-of-type {\n",
       "        vertical-align: middle;\n",
       "    }\n",
       "\n",
       "    .dataframe tbody tr th {\n",
       "        vertical-align: top;\n",
       "    }\n",
       "\n",
       "    .dataframe thead th {\n",
       "        text-align: right;\n",
       "    }\n",
       "</style>\n",
       "<table border=\"1\" class=\"dataframe\">\n",
       "  <thead>\n",
       "    <tr style=\"text-align: right;\">\n",
       "      <th></th>\n",
       "      <th>count</th>\n",
       "      <th>unique</th>\n",
       "      <th>top</th>\n",
       "      <th>freq</th>\n",
       "      <th>first</th>\n",
       "      <th>last</th>\n",
       "      <th>mean</th>\n",
       "      <th>std</th>\n",
       "      <th>min</th>\n",
       "      <th>25%</th>\n",
       "      <th>50%</th>\n",
       "      <th>75%</th>\n",
       "      <th>max</th>\n",
       "    </tr>\n",
       "  </thead>\n",
       "  <tbody>\n",
       "    <tr>\n",
       "      <th>Invoice</th>\n",
       "      <td>803000.0</td>\n",
       "      <td>NaN</td>\n",
       "      <td>NaN</td>\n",
       "      <td>NaN</td>\n",
       "      <td>NaT</td>\n",
       "      <td>NaT</td>\n",
       "      <td>54833.860039</td>\n",
       "      <td>26012.613808</td>\n",
       "      <td>10001.0</td>\n",
       "      <td>32284.0</td>\n",
       "      <td>54635.0</td>\n",
       "      <td>77281.0</td>\n",
       "      <td>99998.0</td>\n",
       "    </tr>\n",
       "    <tr>\n",
       "      <th>Product_Code</th>\n",
       "      <td>803000.0</td>\n",
       "      <td>NaN</td>\n",
       "      <td>NaN</td>\n",
       "      <td>NaN</td>\n",
       "      <td>NaT</td>\n",
       "      <td>NaT</td>\n",
       "      <td>1887418.878384</td>\n",
       "      <td>2535254.119949</td>\n",
       "      <td>10557.0</td>\n",
       "      <td>73186.0</td>\n",
       "      <td>669238.0</td>\n",
       "      <td>3611064.0</td>\n",
       "      <td>8991517.0</td>\n",
       "    </tr>\n",
       "    <tr>\n",
       "      <th>Quantity</th>\n",
       "      <td>803000.0</td>\n",
       "      <td>NaN</td>\n",
       "      <td>NaN</td>\n",
       "      <td>NaN</td>\n",
       "      <td>NaT</td>\n",
       "      <td>NaT</td>\n",
       "      <td>3.501186</td>\n",
       "      <td>1.381731</td>\n",
       "      <td>1.0</td>\n",
       "      <td>3.0</td>\n",
       "      <td>4.0</td>\n",
       "      <td>4.0</td>\n",
       "      <td>6.0</td>\n",
       "    </tr>\n",
       "    <tr>\n",
       "      <th>InvoiceDate</th>\n",
       "      <td>803000</td>\n",
       "      <td>1325</td>\n",
       "      <td>2022-11-16 00:00:00</td>\n",
       "      <td>1882</td>\n",
       "      <td>2019-04-20</td>\n",
       "      <td>2022-12-04</td>\n",
       "      <td>NaN</td>\n",
       "      <td>NaN</td>\n",
       "      <td>NaN</td>\n",
       "      <td>NaN</td>\n",
       "      <td>NaN</td>\n",
       "      <td>NaN</td>\n",
       "      <td>NaN</td>\n",
       "    </tr>\n",
       "    <tr>\n",
       "      <th>InvoiceDate_timeStamp</th>\n",
       "      <td>803000</td>\n",
       "      <td>32350</td>\n",
       "      <td>22-09-2021 02:52</td>\n",
       "      <td>140</td>\n",
       "      <td>NaT</td>\n",
       "      <td>NaT</td>\n",
       "      <td>NaN</td>\n",
       "      <td>NaN</td>\n",
       "      <td>NaN</td>\n",
       "      <td>NaN</td>\n",
       "      <td>NaN</td>\n",
       "      <td>NaN</td>\n",
       "      <td>NaN</td>\n",
       "    </tr>\n",
       "    <tr>\n",
       "      <th>Price</th>\n",
       "      <td>803000.0</td>\n",
       "      <td>NaN</td>\n",
       "      <td>NaN</td>\n",
       "      <td>NaN</td>\n",
       "      <td>NaT</td>\n",
       "      <td>NaT</td>\n",
       "      <td>51.398333</td>\n",
       "      <td>29.440525</td>\n",
       "      <td>2.0</td>\n",
       "      <td>23.0</td>\n",
       "      <td>55.0</td>\n",
       "      <td>78.0</td>\n",
       "      <td>100.0</td>\n",
       "    </tr>\n",
       "    <tr>\n",
       "      <th>Customer_ID</th>\n",
       "      <td>803000.0</td>\n",
       "      <td>NaN</td>\n",
       "      <td>NaN</td>\n",
       "      <td>NaN</td>\n",
       "      <td>NaT</td>\n",
       "      <td>NaT</td>\n",
       "      <td>54227.347229</td>\n",
       "      <td>26305.655558</td>\n",
       "      <td>10125.0</td>\n",
       "      <td>31027.0</td>\n",
       "      <td>53618.0</td>\n",
       "      <td>77549.0</td>\n",
       "      <td>99988.0</td>\n",
       "    </tr>\n",
       "    <tr>\n",
       "      <th>Country</th>\n",
       "      <td>803000</td>\n",
       "      <td>1</td>\n",
       "      <td>USA</td>\n",
       "      <td>803000</td>\n",
       "      <td>NaT</td>\n",
       "      <td>NaT</td>\n",
       "      <td>NaN</td>\n",
       "      <td>NaN</td>\n",
       "      <td>NaN</td>\n",
       "      <td>NaN</td>\n",
       "      <td>NaN</td>\n",
       "      <td>NaN</td>\n",
       "      <td>NaN</td>\n",
       "    </tr>\n",
       "    <tr>\n",
       "      <th>Pack_Size_Code</th>\n",
       "      <td>803000.0</td>\n",
       "      <td>NaN</td>\n",
       "      <td>NaN</td>\n",
       "      <td>NaN</td>\n",
       "      <td>NaT</td>\n",
       "      <td>NaT</td>\n",
       "      <td>2.50002</td>\n",
       "      <td>1.117259</td>\n",
       "      <td>1.0</td>\n",
       "      <td>2.0</td>\n",
       "      <td>2.0</td>\n",
       "      <td>3.0</td>\n",
       "      <td>4.0</td>\n",
       "    </tr>\n",
       "    <tr>\n",
       "      <th>In_Store_Promotion_Flag</th>\n",
       "      <td>803000.0</td>\n",
       "      <td>NaN</td>\n",
       "      <td>NaN</td>\n",
       "      <td>NaN</td>\n",
       "      <td>NaT</td>\n",
       "      <td>NaT</td>\n",
       "      <td>0.499416</td>\n",
       "      <td>0.5</td>\n",
       "      <td>0.0</td>\n",
       "      <td>0.0</td>\n",
       "      <td>0.0</td>\n",
       "      <td>1.0</td>\n",
       "      <td>1.0</td>\n",
       "    </tr>\n",
       "    <tr>\n",
       "      <th>Online_Promotion_Flag</th>\n",
       "      <td>803000.0</td>\n",
       "      <td>NaN</td>\n",
       "      <td>NaN</td>\n",
       "      <td>NaN</td>\n",
       "      <td>NaT</td>\n",
       "      <td>NaT</td>\n",
       "      <td>0.500059</td>\n",
       "      <td>0.5</td>\n",
       "      <td>0.0</td>\n",
       "      <td>0.0</td>\n",
       "      <td>1.0</td>\n",
       "      <td>1.0</td>\n",
       "      <td>1.0</td>\n",
       "    </tr>\n",
       "    <tr>\n",
       "      <th>Shelf_Space_Code</th>\n",
       "      <td>803000.0</td>\n",
       "      <td>NaN</td>\n",
       "      <td>NaN</td>\n",
       "      <td>NaN</td>\n",
       "      <td>NaT</td>\n",
       "      <td>NaT</td>\n",
       "      <td>2.000679</td>\n",
       "      <td>0.816246</td>\n",
       "      <td>1.0</td>\n",
       "      <td>1.0</td>\n",
       "      <td>2.0</td>\n",
       "      <td>3.0</td>\n",
       "      <td>3.0</td>\n",
       "    </tr>\n",
       "    <tr>\n",
       "      <th>Revenue</th>\n",
       "      <td>803000.0</td>\n",
       "      <td>NaN</td>\n",
       "      <td>NaN</td>\n",
       "      <td>NaN</td>\n",
       "      <td>NaT</td>\n",
       "      <td>NaT</td>\n",
       "      <td>182.70495</td>\n",
       "      <td>136.791454</td>\n",
       "      <td>3.0</td>\n",
       "      <td>70.0</td>\n",
       "      <td>154.0</td>\n",
       "      <td>273.0</td>\n",
       "      <td>600.0</td>\n",
       "    </tr>\n",
       "  </tbody>\n",
       "</table>\n",
       "</div>"
      ],
      "text/plain": [
       "                            count unique                  top    freq  \\\n",
       "Invoice                  803000.0    NaN                  NaN     NaN   \n",
       "Product_Code             803000.0    NaN                  NaN     NaN   \n",
       "Quantity                 803000.0    NaN                  NaN     NaN   \n",
       "InvoiceDate                803000   1325  2022-11-16 00:00:00    1882   \n",
       "InvoiceDate_timeStamp      803000  32350     22-09-2021 02:52     140   \n",
       "Price                    803000.0    NaN                  NaN     NaN   \n",
       "Customer_ID              803000.0    NaN                  NaN     NaN   \n",
       "Country                    803000      1                  USA  803000   \n",
       "Pack_Size_Code           803000.0    NaN                  NaN     NaN   \n",
       "In_Store_Promotion_Flag  803000.0    NaN                  NaN     NaN   \n",
       "Online_Promotion_Flag    803000.0    NaN                  NaN     NaN   \n",
       "Shelf_Space_Code         803000.0    NaN                  NaN     NaN   \n",
       "Revenue                  803000.0    NaN                  NaN     NaN   \n",
       "\n",
       "                             first       last            mean             std  \\\n",
       "Invoice                        NaT        NaT    54833.860039    26012.613808   \n",
       "Product_Code                   NaT        NaT  1887418.878384  2535254.119949   \n",
       "Quantity                       NaT        NaT        3.501186        1.381731   \n",
       "InvoiceDate             2019-04-20 2022-12-04             NaN             NaN   \n",
       "InvoiceDate_timeStamp          NaT        NaT             NaN             NaN   \n",
       "Price                          NaT        NaT       51.398333       29.440525   \n",
       "Customer_ID                    NaT        NaT    54227.347229    26305.655558   \n",
       "Country                        NaT        NaT             NaN             NaN   \n",
       "Pack_Size_Code                 NaT        NaT         2.50002        1.117259   \n",
       "In_Store_Promotion_Flag        NaT        NaT        0.499416             0.5   \n",
       "Online_Promotion_Flag          NaT        NaT        0.500059             0.5   \n",
       "Shelf_Space_Code               NaT        NaT        2.000679        0.816246   \n",
       "Revenue                        NaT        NaT       182.70495      136.791454   \n",
       "\n",
       "                             min      25%       50%        75%        max  \n",
       "Invoice                  10001.0  32284.0   54635.0    77281.0    99998.0  \n",
       "Product_Code             10557.0  73186.0  669238.0  3611064.0  8991517.0  \n",
       "Quantity                     1.0      3.0       4.0        4.0        6.0  \n",
       "InvoiceDate                  NaN      NaN       NaN        NaN        NaN  \n",
       "InvoiceDate_timeStamp        NaN      NaN       NaN        NaN        NaN  \n",
       "Price                        2.0     23.0      55.0       78.0      100.0  \n",
       "Customer_ID              10125.0  31027.0   53618.0    77549.0    99988.0  \n",
       "Country                      NaN      NaN       NaN        NaN        NaN  \n",
       "Pack_Size_Code               1.0      2.0       2.0        3.0        4.0  \n",
       "In_Store_Promotion_Flag      0.0      0.0       0.0        1.0        1.0  \n",
       "Online_Promotion_Flag        0.0      0.0       1.0        1.0        1.0  \n",
       "Shelf_Space_Code             1.0      1.0       2.0        3.0        3.0  \n",
       "Revenue                      3.0     70.0     154.0      273.0      600.0  "
      ]
     },
     "execution_count": 13,
     "metadata": {},
     "output_type": "execute_result"
    }
   ],
   "source": [
    "df_all.shape\n",
    "df_all.info()\n",
    "df_all.describe(include='all').T"
   ]
  },
  {
   "cell_type": "markdown",
   "id": "e117a087",
   "metadata": {},
   "source": [
    "Identify the distinct Product and pack size combinations "
   ]
  },
  {
   "cell_type": "code",
   "execution_count": 7,
   "id": "efc55bde",
   "metadata": {},
   "outputs": [
    {
     "name": "stdout",
     "output_type": "stream",
     "text": [
      "160\n",
      "[{'Product': 7259395, 'pack_size': 1}, {'Product': 7259395, 'pack_size': 2}, {'Product': 7259395, 'pack_size': 3}, {'Product': 7259395, 'pack_size': 4}, {'Product': 4617477, 'pack_size': 1}, {'Product': 4617477, 'pack_size': 2}, {'Product': 4617477, 'pack_size': 3}, {'Product': 4617477, 'pack_size': 4}, {'Product': 5610377, 'pack_size': 1}, {'Product': 5610377, 'pack_size': 2}, {'Product': 5610377, 'pack_size': 3}, {'Product': 5610377, 'pack_size': 4}, {'Product': 13579, 'pack_size': 1}, {'Product': 13579, 'pack_size': 2}, {'Product': 13579, 'pack_size': 3}, {'Product': 13579, 'pack_size': 4}, {'Product': 6417803, 'pack_size': 1}, {'Product': 6417803, 'pack_size': 2}, {'Product': 6417803, 'pack_size': 3}, {'Product': 6417803, 'pack_size': 4}, {'Product': 211214, 'pack_size': 1}, {'Product': 211214, 'pack_size': 2}, {'Product': 211214, 'pack_size': 3}, {'Product': 211214, 'pack_size': 4}, {'Product': 673422, 'pack_size': 1}, {'Product': 673422, 'pack_size': 2}, {'Product': 673422, 'pack_size': 3}, {'Product': 673422, 'pack_size': 4}, {'Product': 433680, 'pack_size': 1}, {'Product': 433680, 'pack_size': 2}, {'Product': 433680, 'pack_size': 3}, {'Product': 433680, 'pack_size': 4}, {'Product': 445714, 'pack_size': 1}, {'Product': 445714, 'pack_size': 2}, {'Product': 445714, 'pack_size': 3}, {'Product': 445714, 'pack_size': 4}, {'Product': 64923, 'pack_size': 1}, {'Product': 64923, 'pack_size': 2}, {'Product': 64923, 'pack_size': 3}, {'Product': 64923, 'pack_size': 4}, {'Product': 8991517, 'pack_size': 1}, {'Product': 8991517, 'pack_size': 2}, {'Product': 8991517, 'pack_size': 3}, {'Product': 8991517, 'pack_size': 4}, {'Product': 806301, 'pack_size': 1}, {'Product': 806301, 'pack_size': 2}, {'Product': 806301, 'pack_size': 3}, {'Product': 806301, 'pack_size': 4}, {'Product': 109219, 'pack_size': 1}, {'Product': 109219, 'pack_size': 2}, {'Product': 109219, 'pack_size': 3}, {'Product': 109219, 'pack_size': 4}, {'Product': 325029, 'pack_size': 1}, {'Product': 325029, 'pack_size': 2}, {'Product': 325029, 'pack_size': 3}, {'Product': 325029, 'pack_size': 4}, {'Product': 692904, 'pack_size': 1}, {'Product': 692904, 'pack_size': 2}, {'Product': 692904, 'pack_size': 3}, {'Product': 692904, 'pack_size': 4}, {'Product': 1854506, 'pack_size': 1}, {'Product': 1854506, 'pack_size': 2}, {'Product': 1854506, 'pack_size': 3}, {'Product': 1854506, 'pack_size': 4}, {'Product': 328113, 'pack_size': 1}, {'Product': 328113, 'pack_size': 2}, {'Product': 328113, 'pack_size': 3}, {'Product': 328113, 'pack_size': 4}, {'Product': 54578, 'pack_size': 1}, {'Product': 54578, 'pack_size': 2}, {'Product': 54578, 'pack_size': 3}, {'Product': 54578, 'pack_size': 4}, {'Product': 56372, 'pack_size': 1}, {'Product': 56372, 'pack_size': 2}, {'Product': 56372, 'pack_size': 3}, {'Product': 56372, 'pack_size': 4}, {'Product': 669238, 'pack_size': 1}, {'Product': 669238, 'pack_size': 2}, {'Product': 669238, 'pack_size': 3}, {'Product': 669238, 'pack_size': 4}, {'Product': 1709239, 'pack_size': 1}, {'Product': 1709239, 'pack_size': 2}, {'Product': 1709239, 'pack_size': 3}, {'Product': 1709239, 'pack_size': 4}, {'Product': 3611064, 'pack_size': 1}, {'Product': 3611064, 'pack_size': 2}, {'Product': 3611064, 'pack_size': 3}, {'Product': 3611064, 'pack_size': 4}, {'Product': 25404, 'pack_size': 1}, {'Product': 25404, 'pack_size': 2}, {'Product': 25404, 'pack_size': 3}, {'Product': 25404, 'pack_size': 4}, {'Product': 10557, 'pack_size': 1}, {'Product': 10557, 'pack_size': 2}, {'Product': 10557, 'pack_size': 3}, {'Product': 10557, 'pack_size': 4}, {'Product': 2733507, 'pack_size': 1}, {'Product': 2733507, 'pack_size': 2}, {'Product': 2733507, 'pack_size': 3}, {'Product': 2733507, 'pack_size': 4}, {'Product': 15811, 'pack_size': 1}, {'Product': 15811, 'pack_size': 2}, {'Product': 15811, 'pack_size': 3}, {'Product': 15811, 'pack_size': 4}, {'Product': 4309318, 'pack_size': 1}, {'Product': 4309318, 'pack_size': 2}, {'Product': 4309318, 'pack_size': 3}, {'Product': 4309318, 'pack_size': 4}, {'Product': 585416, 'pack_size': 1}, {'Product': 585416, 'pack_size': 2}, {'Product': 585416, 'pack_size': 3}, {'Product': 585416, 'pack_size': 4}, {'Product': 4973899, 'pack_size': 1}, {'Product': 4973899, 'pack_size': 2}, {'Product': 4973899, 'pack_size': 3}, {'Product': 4973899, 'pack_size': 4}, {'Product': 39505, 'pack_size': 1}, {'Product': 39505, 'pack_size': 2}, {'Product': 39505, 'pack_size': 3}, {'Product': 39505, 'pack_size': 4}, {'Product': 8317014, 'pack_size': 1}, {'Product': 8317014, 'pack_size': 2}, {'Product': 8317014, 'pack_size': 3}, {'Product': 8317014, 'pack_size': 4}, {'Product': 5200349, 'pack_size': 1}, {'Product': 5200349, 'pack_size': 2}, {'Product': 5200349, 'pack_size': 3}, {'Product': 5200349, 'pack_size': 4}, {'Product': 887773, 'pack_size': 1}, {'Product': 887773, 'pack_size': 2}, {'Product': 887773, 'pack_size': 3}, {'Product': 887773, 'pack_size': 4}, {'Product': 73186, 'pack_size': 1}, {'Product': 73186, 'pack_size': 2}, {'Product': 73186, 'pack_size': 3}, {'Product': 73186, 'pack_size': 4}, {'Product': 405475, 'pack_size': 1}, {'Product': 405475, 'pack_size': 2}, {'Product': 405475, 'pack_size': 3}, {'Product': 405475, 'pack_size': 4}, {'Product': 715497, 'pack_size': 1}, {'Product': 715497, 'pack_size': 2}, {'Product': 715497, 'pack_size': 3}, {'Product': 715497, 'pack_size': 4}, {'Product': 939243, 'pack_size': 1}, {'Product': 939243, 'pack_size': 2}, {'Product': 939243, 'pack_size': 3}, {'Product': 939243, 'pack_size': 4}, {'Product': 453233, 'pack_size': 1}, {'Product': 453233, 'pack_size': 2}, {'Product': 453233, 'pack_size': 3}, {'Product': 453233, 'pack_size': 4}, {'Product': 46327, 'pack_size': 1}, {'Product': 46327, 'pack_size': 2}, {'Product': 46327, 'pack_size': 3}, {'Product': 46327, 'pack_size': 4}, {'Product': 897016, 'pack_size': 1}, {'Product': 897016, 'pack_size': 2}, {'Product': 897016, 'pack_size': 3}, {'Product': 897016, 'pack_size': 4}]\n"
     ]
    }
   ],
   "source": [
    "product_list = df_all['Product_Code'].tolist()\n",
    "pack_size_list = df_all['Pack_Size_Code'].tolist()\n",
    "product_list = list(set(product_list))\n",
    "pack_size_list = list(set(pack_size_list))\n",
    "product_pack_size_combination = {  \n",
    "    'Product': product_list,\n",
    "    'pack_size': pack_size_list}\n",
    "\n",
    "\n",
    "All_combinations = [dict(zip(product_pack_size_combination.keys(), v)) for v in itertools.product(*product_pack_size_combination.values())]\n",
    "print(len(All_combinations))\n",
    "print(All_combinations)\n"
   ]
  },
  {
   "cell_type": "markdown",
   "id": "402af246",
   "metadata": {},
   "source": [
    "Create different Dataframes for all the product and pack sizes combinations"
   ]
  },
  {
   "cell_type": "code",
   "execution_count": 8,
   "id": "12a79494",
   "metadata": {},
   "outputs": [],
   "source": [
    "pro_id_list = []\n",
    "pack_size_list = []\n",
    "df_name = []\n",
    "shape_df = []\n",
    "counter = 1\n",
    "for param in All_combinations:\n",
    "    #identify the filting Parameter\n",
    "    dic = dict(param)\n",
    "    df_all_filtered = df_all[(df_all['Product_Code'] == dic['Product']) & (df_all['Pack_Size_Code'] == dic['pack_size'])]\n",
    "    #print(df_all_filtered.shape)\n",
    "    #print(df_all_filtered)\n",
    "    i1 = str('df'+str(counter))\n",
    "    exec('{} = df_all_filtered'.format(i1))\n",
    "    counter = counter+1\n",
    "    pro_id_list.append(dic['Product'])\n",
    "    pack_size_list.append(dic['pack_size'])\n",
    "    df_name.append(i1)\n",
    "    shape_df.append(df_all_filtered.shape)\n",
    "    \n",
    "    \n"
   ]
  },
  {
   "cell_type": "code",
   "execution_count": 9,
   "id": "d46c9d8a",
   "metadata": {},
   "outputs": [
    {
     "name": "stdout",
     "output_type": "stream",
     "text": [
      "     Product_List  Pack_Size df_name DataFrame_shape\n",
      "0         7259395          1     df1      (5041, 13)\n",
      "1         7259395          2     df2      (5141, 13)\n",
      "2         7259395          3     df3      (4846, 13)\n",
      "3         7259395          4     df4      (4961, 13)\n",
      "4         4617477          1     df5      (5022, 13)\n",
      "..            ...        ...     ...             ...\n",
      "155         46327          4   df156      (4986, 13)\n",
      "156        897016          1   df157      (4954, 13)\n",
      "157        897016          2   df158      (5047, 13)\n",
      "158        897016          3   df159      (4927, 13)\n",
      "159        897016          4   df160      (4945, 13)\n",
      "\n",
      "[160 rows x 4 columns]\n"
     ]
    }
   ],
   "source": [
    "df_details = pd.DataFrame(list(zip(pro_id_list,pack_size_list,df_name,shape_df)),\n",
    "                         columns = ['Product_List','Pack_Size','df_name','DataFrame_shape'])\n",
    "\n",
    "print(df_details)"
   ]
  },
  {
   "cell_type": "markdown",
   "id": "48545c5b",
   "metadata": {},
   "source": [
    "Remove Columns with Null data"
   ]
  },
  {
   "cell_type": "code",
   "execution_count": 14,
   "id": "59477c70",
   "metadata": {},
   "outputs": [
    {
     "data": {
      "text/html": [
       "<div>\n",
       "<style scoped>\n",
       "    .dataframe tbody tr th:only-of-type {\n",
       "        vertical-align: middle;\n",
       "    }\n",
       "\n",
       "    .dataframe tbody tr th {\n",
       "        vertical-align: top;\n",
       "    }\n",
       "\n",
       "    .dataframe thead th {\n",
       "        text-align: right;\n",
       "    }\n",
       "</style>\n",
       "<table border=\"1\" class=\"dataframe\">\n",
       "  <thead>\n",
       "    <tr style=\"text-align: right;\">\n",
       "      <th></th>\n",
       "      <th>Invoice</th>\n",
       "      <th>Product_Code</th>\n",
       "      <th>Quantity</th>\n",
       "      <th>InvoiceDate</th>\n",
       "      <th>InvoiceDate_timeStamp</th>\n",
       "      <th>Price</th>\n",
       "      <th>Customer_ID</th>\n",
       "      <th>Country</th>\n",
       "      <th>Pack_Size_Code</th>\n",
       "      <th>In_Store_Promotion_Flag</th>\n",
       "      <th>Online_Promotion_Flag</th>\n",
       "      <th>Shelf_Space_Code</th>\n",
       "      <th>Revenue</th>\n",
       "    </tr>\n",
       "  </thead>\n",
       "  <tbody>\n",
       "    <tr>\n",
       "      <th>120</th>\n",
       "      <td>73868</td>\n",
       "      <td>7259395</td>\n",
       "      <td>2</td>\n",
       "      <td>2019-04-20</td>\n",
       "      <td>20-04-2019 11:13</td>\n",
       "      <td>66</td>\n",
       "      <td>23581</td>\n",
       "      <td>USA</td>\n",
       "      <td>1</td>\n",
       "      <td>1</td>\n",
       "      <td>0</td>\n",
       "      <td>1</td>\n",
       "      <td>132</td>\n",
       "    </tr>\n",
       "    <tr>\n",
       "      <th>316</th>\n",
       "      <td>10131</td>\n",
       "      <td>7259395</td>\n",
       "      <td>2</td>\n",
       "      <td>2019-04-21</td>\n",
       "      <td>20-04-2019 21:06</td>\n",
       "      <td>66</td>\n",
       "      <td>69340</td>\n",
       "      <td>USA</td>\n",
       "      <td>1</td>\n",
       "      <td>1</td>\n",
       "      <td>0</td>\n",
       "      <td>2</td>\n",
       "      <td>132</td>\n",
       "    </tr>\n",
       "    <tr>\n",
       "      <th>537</th>\n",
       "      <td>39427</td>\n",
       "      <td>7259395</td>\n",
       "      <td>1</td>\n",
       "      <td>2019-04-21</td>\n",
       "      <td>21-04-2019 06:59</td>\n",
       "      <td>66</td>\n",
       "      <td>11720</td>\n",
       "      <td>USA</td>\n",
       "      <td>1</td>\n",
       "      <td>0</td>\n",
       "      <td>0</td>\n",
       "      <td>2</td>\n",
       "      <td>66</td>\n",
       "    </tr>\n",
       "    <tr>\n",
       "      <th>765</th>\n",
       "      <td>11375</td>\n",
       "      <td>7259395</td>\n",
       "      <td>1</td>\n",
       "      <td>2019-04-22</td>\n",
       "      <td>21-04-2019 16:28</td>\n",
       "      <td>66</td>\n",
       "      <td>15806</td>\n",
       "      <td>USA</td>\n",
       "      <td>1</td>\n",
       "      <td>1</td>\n",
       "      <td>1</td>\n",
       "      <td>2</td>\n",
       "      <td>66</td>\n",
       "    </tr>\n",
       "    <tr>\n",
       "      <th>1251</th>\n",
       "      <td>59121</td>\n",
       "      <td>7259395</td>\n",
       "      <td>1</td>\n",
       "      <td>2019-04-23</td>\n",
       "      <td>22-04-2019 21:53</td>\n",
       "      <td>66</td>\n",
       "      <td>46611</td>\n",
       "      <td>USA</td>\n",
       "      <td>1</td>\n",
       "      <td>1</td>\n",
       "      <td>1</td>\n",
       "      <td>2</td>\n",
       "      <td>66</td>\n",
       "    </tr>\n",
       "  </tbody>\n",
       "</table>\n",
       "</div>"
      ],
      "text/plain": [
       "      Invoice  Product_Code  Quantity InvoiceDate InvoiceDate_timeStamp  \\\n",
       "120     73868       7259395         2  2019-04-20      20-04-2019 11:13   \n",
       "316     10131       7259395         2  2019-04-21      20-04-2019 21:06   \n",
       "537     39427       7259395         1  2019-04-21      21-04-2019 06:59   \n",
       "765     11375       7259395         1  2019-04-22      21-04-2019 16:28   \n",
       "1251    59121       7259395         1  2019-04-23      22-04-2019 21:53   \n",
       "\n",
       "      Price  Customer_ID Country  Pack_Size_Code  In_Store_Promotion_Flag  \\\n",
       "120      66        23581     USA               1                        1   \n",
       "316      66        69340     USA               1                        1   \n",
       "537      66        11720     USA               1                        0   \n",
       "765      66        15806     USA               1                        1   \n",
       "1251     66        46611     USA               1                        1   \n",
       "\n",
       "      Online_Promotion_Flag  Shelf_Space_Code  Revenue  \n",
       "120                       0                 1      132  \n",
       "316                       0                 2      132  \n",
       "537                       0                 2       66  \n",
       "765                       1                 2       66  \n",
       "1251                      1                 2       66  "
      ]
     },
     "execution_count": 14,
     "metadata": {},
     "output_type": "execute_result"
    }
   ],
   "source": [
    "df1.shape\n",
    "df1 = df1.dropna(axis=0)\n",
    "df1.shape\n",
    "df1.head()"
   ]
  },
  {
   "cell_type": "code",
   "execution_count": 57,
   "id": "0ef5b347",
   "metadata": {},
   "outputs": [
    {
     "name": "stdout",
     "output_type": "stream",
     "text": [
      "     InvoiceDate  Revenue\n",
      "0     2019-04-20      132\n",
      "1     2019-04-21      198\n",
      "2     2019-04-22       66\n",
      "3     2019-04-23      264\n",
      "4     2019-04-24      132\n",
      "...          ...      ...\n",
      "1253  2022-11-29      660\n",
      "1254  2022-11-30     1320\n",
      "1255  2022-12-02      660\n",
      "1256  2022-12-03      924\n",
      "1257  2022-12-04     1980\n",
      "\n",
      "[1258 rows x 2 columns]\n"
     ]
    }
   ],
   "source": [
    "df1_training = df1[['InvoiceDate','Revenue']]\n",
    "df1_training = df1_training.groupby('InvoiceDate')[['Revenue']].sum()\n",
    "df1_training.reset_index(inplace=True)\n",
    "print(df1_training)"
   ]
  },
  {
   "cell_type": "code",
   "execution_count": 20,
   "id": "167cd4b4",
   "metadata": {},
   "outputs": [
    {
     "name": "stdout",
     "output_type": "stream",
     "text": [
      "       InvoiceDate  Revenue  Scaled\n",
      "120     2019-04-20      132     0.5\n",
      "316     2019-04-21      132     0.5\n",
      "537     2019-04-21       66     0.0\n",
      "765     2019-04-22       66     0.0\n",
      "1251    2019-04-23       66     0.0\n",
      "...            ...      ...     ...\n",
      "802409  2022-12-04      132     0.5\n",
      "802494  2022-12-04      132     0.5\n",
      "802664  2022-12-04       66     0.0\n",
      "802794  2022-12-04      198     1.0\n",
      "802867  2022-12-04      198     1.0\n",
      "\n",
      "[5041 rows x 3 columns]\n"
     ]
    }
   ],
   "source": [
    "'''\n",
    "float_array = df1_training['Revenue'].values.astype(float).reshape(-1,1)\n",
    "min_max_scaler = preprocessing.MinMaxScaler()\n",
    "scaled_array = min_max_scaler.fit_transform(float_array)\n",
    "df1_training['Scaled']=scaled_array\n",
    "\n",
    "print(df1_training)\n",
    "'''"
   ]
  },
  {
   "cell_type": "code",
   "execution_count": 58,
   "id": "f704e9b9",
   "metadata": {},
   "outputs": [],
   "source": [
    "df1_training_prophet = df1_training[['InvoiceDate','Revenue']]\n",
    "df1_training_prophet.columns =  ['ds','y']"
   ]
  },
  {
   "cell_type": "markdown",
   "id": "4375ab24",
   "metadata": {},
   "source": [
    "Train and Test Split"
   ]
  },
  {
   "cell_type": "code",
   "execution_count": 59,
   "id": "a4977ec2",
   "metadata": {},
   "outputs": [
    {
     "name": "stdout",
     "output_type": "stream",
     "text": [
      "(1006, 2)\n",
      "(252, 2)\n"
     ]
    }
   ],
   "source": [
    " \n",
    "test_percentage = .2\n",
    "test_size = round(df1_training_prophet.shape[0] * test_percentage )\n",
    "\n",
    "\n",
    "df_train = df1_training_prophet[:-test_size]\n",
    "df_test = df1_training_prophet[-test_size:]\n",
    "\n",
    "#df_train = df_train[['ds','y','cap']]\n",
    "#df_test = df_test[['ds','y','cap']]\n",
    "\n",
    "print(df_train.shape)\n",
    "\n",
    "print(df_test.shape)\n"
   ]
  },
  {
   "cell_type": "markdown",
   "id": "16da8f7a",
   "metadata": {},
   "source": [
    "Function to Calculate MAPE"
   ]
  },
  {
   "cell_type": "code",
   "execution_count": 39,
   "id": "bce29fd3",
   "metadata": {},
   "outputs": [],
   "source": [
    "def calculate_mape(actual,predicted) -> float:\n",
    "  \n",
    "    # Convert actual and predicted\n",
    "    # to numpy array data type if not already\n",
    "    if not all([isinstance(actual, np.ndarray),isinstance(predicted, np.ndarray)]):\n",
    "        actual, predicted = np.array(actual),np.array(predicted)\n",
    "  \n",
    "    # Calculate the MAPE value and return\n",
    "    return round(np.mean(np.abs((actual - predicted) / actual)) * 100, 2)\n"
   ]
  },
  {
   "cell_type": "code",
   "execution_count": 61,
   "id": "c68df2a9",
   "metadata": {},
   "outputs": [
    {
     "name": "stderr",
     "output_type": "stream",
     "text": [
      "20:51:59 - cmdstanpy - INFO - Chain [1] start processing\n",
      "20:52:00 - cmdstanpy - INFO - Chain [1] done processing\n"
     ]
    },
    {
     "name": "stdout",
     "output_type": "stream",
     "text": [
      "54.86501004606916\n",
      "440.56588453590007\n"
     ]
    },
    {
     "name": "stderr",
     "output_type": "stream",
     "text": [
      "20:52:01 - cmdstanpy - INFO - Chain [1] start processing\n",
      "20:52:01 - cmdstanpy - INFO - Chain [1] done processing\n"
     ]
    },
    {
     "name": "stdout",
     "output_type": "stream",
     "text": [
      "55.536268267065466\n",
      "449.8386463113639\n"
     ]
    },
    {
     "name": "stderr",
     "output_type": "stream",
     "text": [
      "20:52:03 - cmdstanpy - INFO - Chain [1] start processing\n",
      "20:52:03 - cmdstanpy - INFO - Chain [1] done processing\n"
     ]
    },
    {
     "name": "stdout",
     "output_type": "stream",
     "text": [
      "55.54767335250481\n",
      "449.97374656591103\n"
     ]
    },
    {
     "name": "stderr",
     "output_type": "stream",
     "text": [
      "20:52:05 - cmdstanpy - INFO - Chain [1] start processing\n",
      "20:52:05 - cmdstanpy - INFO - Chain [1] done processing\n"
     ]
    },
    {
     "name": "stdout",
     "output_type": "stream",
     "text": [
      "55.54778895120924\n",
      "449.9750038301599\n"
     ]
    },
    {
     "name": "stderr",
     "output_type": "stream",
     "text": [
      "20:52:06 - cmdstanpy - INFO - Chain [1] start processing\n",
      "20:52:07 - cmdstanpy - INFO - Chain [1] done processing\n"
     ]
    },
    {
     "name": "stdout",
     "output_type": "stream",
     "text": [
      "54.86501004606916\n",
      "440.56588453590007\n"
     ]
    },
    {
     "name": "stderr",
     "output_type": "stream",
     "text": [
      "20:52:08 - cmdstanpy - INFO - Chain [1] start processing\n",
      "20:52:08 - cmdstanpy - INFO - Chain [1] done processing\n"
     ]
    },
    {
     "name": "stdout",
     "output_type": "stream",
     "text": [
      "55.536268267065466\n",
      "449.8386463113639\n"
     ]
    },
    {
     "name": "stderr",
     "output_type": "stream",
     "text": [
      "20:52:09 - cmdstanpy - INFO - Chain [1] start processing\n",
      "20:52:09 - cmdstanpy - INFO - Chain [1] done processing\n"
     ]
    },
    {
     "name": "stdout",
     "output_type": "stream",
     "text": [
      "55.54767335250481\n",
      "449.97374656591103\n"
     ]
    },
    {
     "name": "stderr",
     "output_type": "stream",
     "text": [
      "20:52:11 - cmdstanpy - INFO - Chain [1] start processing\n",
      "20:52:11 - cmdstanpy - INFO - Chain [1] done processing\n"
     ]
    },
    {
     "name": "stdout",
     "output_type": "stream",
     "text": [
      "55.54778895120924\n",
      "449.9750038301599\n"
     ]
    },
    {
     "name": "stderr",
     "output_type": "stream",
     "text": [
      "20:52:13 - cmdstanpy - INFO - Chain [1] start processing\n",
      "20:52:13 - cmdstanpy - INFO - Chain [1] done processing\n"
     ]
    },
    {
     "name": "stdout",
     "output_type": "stream",
     "text": [
      "54.86501004606916\n",
      "440.56588453590007\n"
     ]
    },
    {
     "name": "stderr",
     "output_type": "stream",
     "text": [
      "20:52:14 - cmdstanpy - INFO - Chain [1] start processing\n",
      "20:52:14 - cmdstanpy - INFO - Chain [1] done processing\n"
     ]
    },
    {
     "name": "stdout",
     "output_type": "stream",
     "text": [
      "55.536268267065466\n",
      "449.8386463113639\n"
     ]
    },
    {
     "name": "stderr",
     "output_type": "stream",
     "text": [
      "20:52:16 - cmdstanpy - INFO - Chain [1] start processing\n",
      "20:52:16 - cmdstanpy - INFO - Chain [1] done processing\n"
     ]
    },
    {
     "name": "stdout",
     "output_type": "stream",
     "text": [
      "55.54767335250481\n",
      "449.97374656591103\n"
     ]
    },
    {
     "name": "stderr",
     "output_type": "stream",
     "text": [
      "20:52:17 - cmdstanpy - INFO - Chain [1] start processing\n",
      "20:52:17 - cmdstanpy - INFO - Chain [1] done processing\n"
     ]
    },
    {
     "name": "stdout",
     "output_type": "stream",
     "text": [
      "55.54778895120924\n",
      "449.9750038301599\n"
     ]
    },
    {
     "name": "stderr",
     "output_type": "stream",
     "text": [
      "20:52:19 - cmdstanpy - INFO - Chain [1] start processing\n",
      "20:52:19 - cmdstanpy - INFO - Chain [1] done processing\n"
     ]
    },
    {
     "name": "stdout",
     "output_type": "stream",
     "text": [
      "54.86501004606916\n",
      "440.56588453590007\n"
     ]
    },
    {
     "name": "stderr",
     "output_type": "stream",
     "text": [
      "20:52:21 - cmdstanpy - INFO - Chain [1] start processing\n",
      "20:52:21 - cmdstanpy - INFO - Chain [1] done processing\n"
     ]
    },
    {
     "name": "stdout",
     "output_type": "stream",
     "text": [
      "55.536268267065466\n",
      "449.8386463113639\n"
     ]
    },
    {
     "name": "stderr",
     "output_type": "stream",
     "text": [
      "20:52:23 - cmdstanpy - INFO - Chain [1] start processing\n",
      "20:52:23 - cmdstanpy - INFO - Chain [1] done processing\n"
     ]
    },
    {
     "name": "stdout",
     "output_type": "stream",
     "text": [
      "55.54767335250481\n",
      "449.97374656591103\n"
     ]
    },
    {
     "name": "stderr",
     "output_type": "stream",
     "text": [
      "20:52:24 - cmdstanpy - INFO - Chain [1] start processing\n",
      "20:52:25 - cmdstanpy - INFO - Chain [1] done processing\n"
     ]
    },
    {
     "name": "stdout",
     "output_type": "stream",
     "text": [
      "55.54778895120924\n",
      "449.9750038301599\n",
      "    changepoint_prior_scale  seasonality_prior_scale       mape        rmse\n",
      "0                     0.001                     0.01  54.865010  440.565885\n",
      "1                     0.001                     0.10  55.536268  449.838646\n",
      "2                     0.001                     1.00  55.547673  449.973747\n",
      "3                     0.001                    10.00  55.547789  449.975004\n",
      "4                     0.010                     0.01  54.865010  440.565885\n",
      "5                     0.010                     0.10  55.536268  449.838646\n",
      "6                     0.010                     1.00  55.547673  449.973747\n",
      "7                     0.010                    10.00  55.547789  449.975004\n",
      "8                     0.100                     0.01  54.865010  440.565885\n",
      "9                     0.100                     0.10  55.536268  449.838646\n",
      "10                    0.100                     1.00  55.547673  449.973747\n",
      "11                    0.100                    10.00  55.547789  449.975004\n",
      "12                    0.500                     0.01  54.865010  440.565885\n",
      "13                    0.500                     0.10  55.536268  449.838646\n",
      "14                    0.500                     1.00  55.547673  449.973747\n",
      "15                    0.500                    10.00  55.547789  449.975004\n"
     ]
    }
   ],
   "source": [
    "param_grid = {  \n",
    "    'changepoint_prior_scale': [0.001, 0.01, 0.1, 0.5],\n",
    "    'seasonality_prior_scale': [0.01, 0.1, 1.0, 10.0],\n",
    "}\n",
    "\n",
    "all_params = [dict(zip(param_grid.keys(), v)) for v in itertools.product(*param_grid.values())]\n",
    "\n",
    "mape = []\n",
    "rmse = []\n",
    "for params in all_params:\n",
    "    m = Prophet(**params,growth='flat').fit(df_train)\n",
    "    future = m.make_future_dataframe(periods=test_size, freq='W')\n",
    "    forecast = m.predict(future)\n",
    "    forecast_df = forecast[['ds', 'yhat']].tail(test_size)\n",
    "    y_actual = df_test['y']\n",
    "    y_predicted = forecast_df['yhat']\n",
    "    \n",
    "    MSE = np.square(np.subtract(y_actual,y_predicted)).mean() \n",
    "\n",
    "    RMSE = math.sqrt(MSE)\n",
    "    \n",
    "    def calculate_mape(actual, pred): \n",
    "        actual, pred = np.array(actual), np.array(pred)\n",
    "        return np.mean(np.abs((actual - pred) / actual)) * 100\n",
    "    \n",
    "    mape_value = calculate_mape(y_actual,y_predicted)\n",
    "    print(mape_value)\n",
    "    print(RMSE)\n",
    "    mape.append(mape_value)\n",
    "    rmse.append(RMSE)\n",
    "    \n",
    "tuning_results = pd.DataFrame(all_params)\n",
    "tuning_results['mape'] = mape\n",
    "tuning_results['rmse'] = rmse\n",
    "print(tuning_results)"
   ]
  }
 ],
 "metadata": {
  "kernelspec": {
   "display_name": "Python 3 (ipykernel)",
   "language": "python",
   "name": "python3"
  },
  "language_info": {
   "codemirror_mode": {
    "name": "ipython",
    "version": 3
   },
   "file_extension": ".py",
   "mimetype": "text/x-python",
   "name": "python",
   "nbconvert_exporter": "python",
   "pygments_lexer": "ipython3",
   "version": "3.9.12"
  }
 },
 "nbformat": 4,
 "nbformat_minor": 5
}
